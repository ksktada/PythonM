{
 "cells": [
  {
   "cell_type": "code",
   "execution_count": 6,
   "metadata": {
    "collapsed": true
   },
   "outputs": [],
   "source": [
    "import matplotlib.pyplot as plt\n",
    "import numpy as np\n",
    "\n",
    "x = np.random.rand(100,1) # 0 ~  1 までの乱数を100個作る\n",
    "x = x * 4 - 2 #値の範囲を -2 ~ 2 に変更\n",
    "y = 3 * x**2 - 2 # y = 3x^2 - 2\n",
    "y += np.random.randn(100, 1) # 標準正規分布（平均0、標準偏差 1）の乱数を加える"
   ]
  },
  {
   "cell_type": "markdown",
   "metadata": {},
   "source": [
    "↑データ作成"
   ]
  },
  {
   "cell_type": "code",
   "execution_count": 7,
   "metadata": {},
   "outputs": [
    {
     "data": {
      "image/png": "[encoded data removed]",
      "text/plain": [
       "<matplotlib.figure.Figure at 0x7c07668>"
      ]
     },
     "metadata": {},
     "output_type": "display_data"
    }
   ],
   "source": [
    "from sklearn import linear_model\n",
    "\n",
    "model = linear_model.LinearRegression()\n",
    "model.fit(x**2, y) # x を2乗して渡す\n",
    "\n",
    "plt.scatter(x, y, marker='+')\n",
    "plt.scatter(x, model.predict(x**2), marker='o') # predictにもxを2乗して渡す\n",
    "\n",
    "plt.show()"
   ]
  },
  {
   "cell_type": "markdown",
   "metadata": {},
   "source": [
    "↑2次曲線完成"
   ]
  },
  {
   "cell_type": "code",
   "execution_count": 8,
   "metadata": {},
   "outputs": [
    {
     "name": "stdout",
     "output_type": "stream",
     "text": [
      "[[ 3.04736347]]\n",
      "[-2.06192043]\n",
      "0.945217726241\n"
     ]
    }
   ],
   "source": [
    "print(model.coef_)\n",
    "print(model.intercept_)\n",
    "\n",
    "print(model.score(x**2, y)) # x を2乗して渡す"
   ]
  },
  {
   "cell_type": "markdown",
   "metadata": {},
   "source": [
    "↑だいたい3と2。R^2決定係数精度高め。"
   ]
  }
 ],
 "metadata": {
  "kernelspec": {
   "display_name": "Python 3",
   "language": "python",
   "name": "python3"
  },
  "language_info": {
   "codemirror_mode": {
    "name": "ipython",
    "version": 3
   },
   "file_extension": ".py",
   "mimetype": "text/x-python",
   "name": "python",
   "nbconvert_exporter": "python",
   "pygments_lexer": "ipython3",
   "version": "3.6.1"
  }
 },
 "nbformat": 4,
 "nbformat_minor": 2
}
