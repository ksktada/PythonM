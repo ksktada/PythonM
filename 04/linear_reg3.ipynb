{
 "cells": [
  {
   "cell_type": "markdown",
   "metadata": {},
   "source": [
    "##複雑なモデルを線形回帰で"
   ]
  },
  {
   "cell_type": "code",
   "execution_count": 2,
   "metadata": {},
   "outputs": [
    {
     "name": "stdout",
     "output_type": "stream",
     "text": [
      "係数（学習データ） [[ -44.81721557  -66.2225485   167.63291347  107.98374443 -187.41771995\n   -53.78511224   79.76712008    6.26599379   -6.37062335]]\n切片（学習データ） [-1.17861927]\n決定係数（学習データ） 0.95454553722\n決定係数（テストデータ） 0.755590513805\n"
     ]
    },
    {
     "data": {
      "image/png": "[encoded data removed]",
      "text/plain": [
       "<matplotlib.figure.Figure at 0x95c4588>"
      ]
     },
     "metadata": {},
     "output_type": "display_data"
    }
   ],
   "source": [
    "# -*- coding: utf-8 -*-\n",
    "\n",
    "import matplotlib.pyplot as plt\n",
    "import numpy as np\n",
    "\n",
    "\n",
    "### バラつきのある y = 4x^3 - 3x^2 + 2x - 1 のデータを作成\n",
    "\n",
    "x = np.random.rand(100, 1)  # 0 〜 1 までの乱数を 100 個つくる\n",
    "x = x * 2 - 1               # 値の範囲を -2 〜 2 に変更\n",
    "\n",
    "y = 4 * x**3 - 3 * x**2 + 2 * x - 1\n",
    "\n",
    "y += np.random.randn(100, 1)  # 標準正規分布（平均 0, 標準偏差 1）の乱数を加える\n",
    "\n",
    "# 学習データ 30 個\n",
    "x_train = x[:30]\n",
    "y_train = y[:30]\n",
    "\n",
    "# テストデータ 30 個\n",
    "x_test = x[30:]\n",
    "y_test = y[30:]\n",
    "\n",
    "\n",
    "### 最小二乗法で 9 次式として回帰をとってみる\n",
    "\n",
    "from sklearn import linear_model\n",
    "\n",
    "# 学習用の入力データ\n",
    "X_TRAIN = np.c_[x_train**9, x_train**8, x_train**7, x_train**6, x_train**5,\n",
    "                x_train**4, x_train**3, x_train**2, x_train]\n",
    "\n",
    "model = linear_model.LinearRegression()\n",
    "model.fit(X_TRAIN, y_train)\n",
    "\n",
    "\n",
    "### 係数、切片、学習データによる決定係数を表示\n",
    "\n",
    "print('係数（学習データ）', model.coef_)\n",
    "print('切片（学習データ）', model.intercept_)\n",
    "\n",
    "print('決定係数（学習データ）', model.score(X_TRAIN, y_train))\n",
    "\n",
    "\n",
    "### テストデータによる決定係数を表示\n",
    "\n",
    "X_TEST = np.c_[x_test**9, x_test**8, x_test**7, x_test**6, x_test**5,\n",
    "               x_test**4, x_test**3, x_test**2, x_test]\n",
    "\n",
    "print('決定係数（テストデータ）', model.score(X_TEST, y_test))\n",
    "\n",
    "\n",
    "### グラフ表示\n",
    "\n",
    "plt.subplot(2, 2, 1)\n",
    "plt.scatter(x, y, marker='+')\n",
    "plt.title('all')\n",
    "\n",
    "plt.subplot(2, 2, 2)\n",
    "plt.scatter(x_train, y_train, marker='+')\n",
    "plt.scatter(x_train, model.predict(X_TRAIN), marker='o')\n",
    "plt.title('train')\n",
    "\n",
    "plt.subplot(2, 2, 3)\n",
    "plt.scatter(x_test, y_test, marker='+')\n",
    "plt.scatter(x_test, model.predict(X_TEST), marker='o')\n",
    "plt.title('test')\n",
    "\n",
    "plt.tight_layout()\n",
    "plt.show()\n"
   ]
  },
  {
   "cell_type": "code",
   "execution_count": null,
   "metadata": {},
   "outputs": [],
   "source": [
    "↑あんましよくない"
   ]
  },
  {
   "cell_type": "markdown",
   "metadata": {},
   "source": [
    "##Ridge回帰"
   ]
  },
  {
   "cell_type": "code",
   "execution_count": 3,
   "metadata": {
    "collapsed": true
   },
   "outputs": [
    {
     "name": "stdout",
     "output_type": "stream",
     "text": [
      "係数（学習データ） [[ 0.34029795 -0.20256732  0.56286892 -0.32242857  1.00150372 -0.58184192\n   1.86903083 -1.13467321  2.66211718]]\n切片（学習データ） [-1.16115193]\n決定係数（学習データ） 0.910286371698\n決定係数（テストデータ） 0.812678776264\n"
     ]
    },
    {
     "data": {
      "image/png": "[encoded data removed]",
      "text/plain": [
       "<matplotlib.figure.Figure at 0x906b898>"
      ]
     },
     "metadata": {},
     "output_type": "display_data"
    }
   ],
   "source": [
    "### Ridge で 9 次式として回帰をとってみる\n",
    "\n",
    "from sklearn import linear_model\n",
    "\n",
    "# 学習用の入力データ\n",
    "X_TRAIN = np.c_[x_train**9, x_train**8, x_train**7, x_train**6, x_train**5,\n",
    "                x_train**4, x_train**3, x_train**2, x_train]\n",
    "\n",
    "model = linear_model.Ridge()\n",
    "model.fit(X_TRAIN, y_train)\n",
    "\n",
    "\n",
    "### 係数、切片、学習データによる決定係数を表示\n",
    "\n",
    "print('係数（学習データ）', model.coef_)\n",
    "print('切片（学習データ）', model.intercept_)\n",
    "\n",
    "print('決定係数（学習データ）', model.score(X_TRAIN, y_train))\n",
    "\n",
    "\n",
    "### テストデータによる決定係数を表示\n",
    "\n",
    "X_TEST = np.c_[x_test**9, x_test**8, x_test**7, x_test**6, x_test**5,\n",
    "               x_test**4, x_test**3, x_test**2, x_test]\n",
    "\n",
    "print('決定係数（テストデータ）', model.score(X_TEST, y_test))\n",
    "\n",
    "\n",
    "### グラフ表示\n",
    "\n",
    "plt.subplot(2, 2, 1)\n",
    "plt.scatter(x, y, marker='+')\n",
    "plt.title('all')\n",
    "\n",
    "plt.subplot(2, 2, 2)\n",
    "plt.scatter(x_train, y_train, marker='+')\n",
    "plt.scatter(x_train, model.predict(X_TRAIN), marker='o')\n",
    "plt.title('train')\n",
    "\n",
    "plt.subplot(2, 2, 3)\n",
    "plt.scatter(x_test, y_test, marker='+')\n",
    "plt.scatter(x_test, model.predict(X_TEST), marker='o')\n",
    "plt.title('test')\n",
    "\n",
    "plt.tight_layout()\n",
    "plt.show()\n"
   ]
  }
 ],
 "metadata": {
  "kernelspec": {
   "display_name": "Python 2",
   "language": "python",
   "name": "python2"
  },
  "language_info": {
   "codemirror_mode": {
    "name": "ipython",
    "version": 2
   },
   "file_extension": ".py",
   "mimetype": "text/x-python",
   "name": "python",
   "nbconvert_exporter": "python",
   "pygments_lexer": "ipython2",
   "version": "2.7.6"
  }
 },
 "nbformat": 4,
 "nbformat_minor": 0
}
