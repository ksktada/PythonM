{
 "cells": [
  {
   "cell_type": "code",
   "execution_count": 3,
   "metadata": {},
   "outputs": [
    {
     "data": {
      "image/png": "[encoded data removed]",
      "text/plain": [
       "<matplotlib.figure.Figure at 0x4ad1400>"
      ]
     },
     "metadata": {},
     "output_type": "display_data"
    }
   ],
   "source": [
    "import matplotlib.pyplot as plt\n",
    "import numpy as np\n",
    "\n",
    "x = np.random.rand(100, 1) # 0 ~ 1 までの乱数を100個つくる\n",
    "x = x * 4 - 2 # 値の範囲を -2 ~ 2 に変更\n",
    "\n",
    "y = 3 * x -2 # y = 3x - 2\n",
    "\n",
    "y += np.random.randn(100, 1) #標準正規分布（平均 0、標準偏差 1）の乱数を加える\n",
    "\n",
    "plt.scatter(x, y, marker='+')\n",
    "plt.show()"
   ]
  },
  {
   "cell_type": "code",
   "execution_count": 4,
   "metadata": {},
   "outputs": [
    {
     "data": {
      "image/png": "[encoded data removed]",
      "text/plain": [
       "<matplotlib.figure.Figure at 0x842d518>"
      ]
     },
     "metadata": {},
     "output_type": "display_data"
    }
   ],
   "source": [
    "from sklearn import linear_model\n",
    "\n",
    "model = linear_model.LinearRegression() #線形回帰\n",
    "model.fit(x, y)\n",
    "\n",
    "plt.scatter(x, y, marker = '+')\n",
    "plt.scatter(x, model.predict(x), marker = 'o')\n",
    "plt.show()"
   ]
  },
  {
   "cell_type": "markdown",
   "metadata": {},
   "source": [
    "↑水色が入力値、オレンジができたモデル"
   ]
  },
  {
   "cell_type": "code",
   "execution_count": 5,
   "metadata": {},
   "outputs": [
    {
     "name": "stdout",
     "output_type": "stream",
     "text": [
      "[[ 2.92087967]]\n",
      "[-2.18207586]\n"
     ]
    }
   ],
   "source": [
    "print(model.coef_) #係数a\n",
    "print(model.intercept_) #切片b"
   ]
  },
  {
   "cell_type": "markdown",
   "metadata": {},
   "source": [
    "↑だいたいaが3、bが2になってるのが分かる。"
   ]
  },
  {
   "cell_type": "code",
   "execution_count": 6,
   "metadata": {},
   "outputs": [
    {
     "name": "stdout",
     "output_type": "stream",
     "text": [
      "0.915784017398\n"
     ]
    }
   ],
   "source": [
    "r2 = model.score(x, y)\n",
    "print(r2)"
   ]
  },
  {
   "cell_type": "markdown",
   "metadata": {},
   "source": [
    "↑まあまあ1に近い。"
   ]
  }
 ],
 "metadata": {
  "kernelspec": {
   "display_name": "Python 3",
   "language": "python",
   "name": "python3"
  },
  "language_info": {
   "codemirror_mode": {
    "name": "ipython",
    "version": 3
   },
   "file_extension": ".py",
   "mimetype": "text/x-python",
   "name": "python",
   "nbconvert_exporter": "python",
   "pygments_lexer": "ipython3",
   "version": "3.6.1"
  }
 },
 "nbformat": 4,
 "nbformat_minor": 2
}
