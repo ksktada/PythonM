{
 "cells": [
  {
   "cell_type": "code",
   "execution_count": 1,
   "metadata": {
    "collapsed": true
   },
   "outputs": [
    {
     "name": "stdout",
     "output_type": "stream",
     "text": [
      "[[101, 'a', 'z'], [102, 'b', 'y'], [103, 'c', 'x'], [104, 'd', 'w']]\n"
     ]
    }
   ],
   "source": [
    "import pandas as pd\n",
    "\n",
    "A = [[101, 'a', 'z'], [102, 'b', 'y'], [103, 'c', 'x'], [104, 'd', 'w']]\n",
    "print(A)\n"
   ]
  },
  {
   "cell_type": "code",
   "execution_count": 3,
   "metadata": {},
   "outputs": [
    {
     "name": "stdout",
     "output_type": "stream",
     "text": [
      "     0  1  2\n0  101  a  z\n1  102  b  y\n2  103  c  x\n3  104  d  w\n"
     ]
    }
   ],
   "source": [
    "dfa = pd.DataFrame(A)\n",
    "print(dfa)"
   ]
  },
  {
   "cell_type": "code",
   "execution_count": 4,
   "metadata": {},
   "outputs": [
    {
     "name": "stdout",
     "output_type": "stream",
     "text": [
      "    no la lz\n0  101  a  z\n1  102  b  y\n2  103  c  x\n3  104  d  w\n"
     ]
    }
   ],
   "source": [
    "dfa.columns = ['no', 'la', 'lz']\n",
    "print(dfa)"
   ]
  },
  {
   "cell_type": "code",
   "execution_count": 10,
   "metadata": {},
   "outputs": [
    {
     "name": "stdout",
     "output_type": "stream",
     "text": [
      "     no la\nlz        \nz   101  a\ny   102  b\nx   103  c\nw   104  d\n"
     ]
    }
   ],
   "source": [
    "print(dfa.set_index('lz'))"
   ]
  },
  {
   "cell_type": "code",
   "execution_count": 11,
   "metadata": {},
   "outputs": [
    {
     "name": "stdout",
     "output_type": "stream",
     "text": [
      "    no la lz\n1  102  b  y\n2  103  c  x\n3  104  d  w\n"
     ]
    }
   ],
   "source": [
    "print(dfa[1:])"
   ]
  },
  {
   "cell_type": "code",
   "execution_count": 7,
   "metadata": {},
   "outputs": [
    {
     "name": "stdout",
     "output_type": "stream",
     "text": [
      "    no la lz\n0  101  a  z\n"
     ]
    }
   ],
   "source": [
    "print(dfa[:1])"
   ]
  },
  {
   "cell_type": "code",
   "execution_count": 12,
   "metadata": {},
   "outputs": [
    {
     "name": "stdout",
     "output_type": "stream",
     "text": [
      "0    101\n1    102\n2    103\n3    104\nName: no, dtype: int64\n"
     ]
    }
   ],
   "source": [
    "print(dfa['no'])"
   ]
  },
  {
   "cell_type": "code",
   "execution_count": 13,
   "metadata": {},
   "outputs": [
    {
     "name": "stdout",
     "output_type": "stream",
     "text": [
      "    no lz\n0  101  z\n1  102  y\n2  103  x\n3  104  w\n"
     ]
    }
   ],
   "source": [
    "print(dfa[['no', 'lz']])"
   ]
  },
  {
   "cell_type": "code",
   "execution_count": 15,
   "metadata": {},
   "outputs": [
    {
     "name": "stdout",
     "output_type": "stream",
     "text": [
      "101\nb\nx\n"
     ]
    }
   ],
   "source": [
    "print(dfa.ix[0, 0])\n",
    "print(dfa.ix[1, 1])\n",
    "print(dfa.ix[2, 2])"
   ]
  },
  {
   "cell_type": "code",
   "execution_count": 16,
   "metadata": {},
   "outputs": [
    {
     "name": "stdout",
     "output_type": "stream",
     "text": [
      "     0  1  2\n0  101  A  Z\n1  102  B  Y\n2  104  D  W\n3  105  E  V\n"
     ]
    }
   ],
   "source": [
    "B = [[101, 'A', 'Z'], [102, 'B', 'Y'], [104, 'D', 'W'], [105, 'E', 'V']]\n",
    "dfb = pd.DataFrame(B)\n",
    "print(dfb)"
   ]
  },
  {
   "cell_type": "code",
   "execution_count": 17,
   "metadata": {},
   "outputs": [
    {
     "name": "stdout",
     "output_type": "stream",
     "text": [
      "    no ua uz\n0  101  A  Z\n1  102  B  Y\n2  104  D  W\n3  105  E  V\n"
     ]
    }
   ],
   "source": [
    "dfb.columns = ['no', 'ua', 'uz']\n",
    "print(dfb)"
   ]
  },
  {
   "cell_type": "code",
   "execution_count": 18,
   "metadata": {},
   "outputs": [
    {
     "name": "stdout",
     "output_type": "stream",
     "text": [
      "    la   lz   no   ua   uz\n0    a    z  101  NaN  NaN\n1    b    y  102  NaN  NaN\n2    c    x  103  NaN  NaN\n3    d    w  104  NaN  NaN\n0  NaN  NaN  101    A    Z\n1  NaN  NaN  102    B    Y\n2  NaN  NaN  104    D    W\n3  NaN  NaN  105    E    V\n"
     ]
    }
   ],
   "source": [
    "print(pd.concat([dfa, dfb]))"
   ]
  },
  {
   "cell_type": "code",
   "execution_count": 19,
   "metadata": {},
   "outputs": [
    {
     "name": "stdout",
     "output_type": "stream",
     "text": [
      "    la lz\nno       \n101  a  z\n102  b  y\n103  c  x\n104  d  w\n"
     ]
    }
   ],
   "source": [
    "dfa.set_index('no', inplace=True)\n",
    "print(dfa)"
   ]
  },
  {
   "cell_type": "code",
   "execution_count": 21,
   "metadata": {},
   "outputs": [
    {
     "name": "stdout",
     "output_type": "stream",
     "text": [
      "    ua uz\nno       \n101  A  Z\n102  B  Y\n104  D  W\n105  E  V\n"
     ]
    }
   ],
   "source": [
    "dfb.set_index('no', inplace=True)\n",
    "print(dfb)"
   ]
  },
  {
   "cell_type": "code",
   "execution_count": 22,
   "metadata": {},
   "outputs": [
    {
     "name": "stdout",
     "output_type": "stream",
     "text": [
      "    la lz   ua   uz\nno                 \n101  a  z    A    Z\n102  b  y    B    Y\n103  c  x  NaN  NaN\n104  d  w    D    W\n"
     ]
    }
   ],
   "source": [
    "print(dfa.join(dfb))"
   ]
  },
  {
   "cell_type": "code",
   "execution_count": 23,
   "metadata": {},
   "outputs": [
    {
     "name": "stdout",
     "output_type": "stream",
     "text": [
      "    la lz ua uz\nno             \n101  a  z  A  Z\n102  b  y  B  Y\n104  d  w  D  W\n"
     ]
    }
   ],
   "source": [
    "print(dfa.join(dfb).dropna())"
   ]
  },
  {
   "cell_type": "code",
   "execution_count": 24,
   "metadata": {},
   "outputs": [
    {
     "name": "stdout",
     "output_type": "stream",
     "text": [
      "[['a' 'z']\n ['b' 'y']\n ['c' 'x']\n ['d' 'w']]\n"
     ]
    }
   ],
   "source": [
    "print(dfa.as_matrix())"
   ]
  }
 ],
 "metadata": {
  "kernelspec": {
   "display_name": "Python 2",
   "language": "python",
   "name": "python2"
  },
  "language_info": {
   "codemirror_mode": {
    "name": "ipython",
    "version": 2
   },
   "file_extension": ".py",
   "mimetype": "text/x-python",
   "name": "python",
   "nbconvert_exporter": "python",
   "pygments_lexer": "ipython2",
   "version": "2.7.6"
  }
 },
 "nbformat": 4,
 "nbformat_minor": 0
}
