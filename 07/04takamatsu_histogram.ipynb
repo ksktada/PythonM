{
 "cells": [
  {
   "cell_type": "markdown",
   "metadata": {},
   "source": [
    "#気温のヒストグラム"
   ]
  },
  {
   "cell_type": "code",
   "execution_count": 2,
   "metadata": {
    "collapsed": false
   },
   "outputs": [
    {
     "data": {
      "image/png": "[encoded data removed]",
      "text/plain": [
       "<matplotlib.figure.Figure at 0x94fcfd0>"
      ]
     },
     "metadata": {},
     "output_type": "display_data"
    }
   ],
   "source": [
    "# coding: utf-8\n",
    "import pandas as pd\n",
    "import matplotlib.pyplot as plt\n",
    "\n",
    "\n",
    "# 気象データを読み込み\n",
    "tmp = pd.read_csv(\n",
    "    u'47891_takamatsu.csv',\n",
    "    parse_dates={'date_hour': [\"日時\"]},\n",
    "    index_col=\"date_hour\",\n",
    "    na_values=\"×\"\n",
    ")\n",
    "\n",
    "del tmp[\"時\"]  # 「時」の列は使わないので、削除\n",
    "\n",
    "# 列の名前に日本語が入っているとよくないので、これから使う列の名前のみ英語に変更\n",
    "columns = {\n",
    "    \"降水量(mm)\": \"rain\",\n",
    "    \"気温(℃)\": \"temperature\",\n",
    "    \"日照時間(h)\": \"sunhour\",\n",
    "    \"湿度(％)\": \"humid\",\n",
    "}\n",
    "tmp.rename(columns=columns, inplace=True)\n",
    "\n",
    "plt.figure(figsize=(10, 6))\n",
    "\n",
    "# ヒストグラム生成\n",
    "\n",
    "plt.hist(tmp['temperature'], bins=50, color=\"gray\")\n",
    "plt.xlabel('Temperature(C degree)')\n",
    "plt.ylabel('count')\n",
    "\n",
    "# グラフ保存\n",
    "plt.show()\n"
   ]
  }
 ],
 "metadata": {
  "kernelspec": {
   "display_name": "Python 2",
   "language": "python",
   "name": "python2"
  },
  "language_info": {
   "codemirror_mode": {
    "name": "ipython",
    "version": 2
   },
   "file_extension": ".py",
   "mimetype": "text/x-python",
   "name": "python",
   "nbconvert_exporter": "python",
   "pygments_lexer": "ipython2",
   "version": "2.7.6"
  }
 },
 "nbformat": 4,
 "nbformat_minor": 0
}
