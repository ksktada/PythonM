{
 "cells": [
  {
   "cell_type": "markdown",
   "metadata": {},
   "source": [
    "# あやめデータのクラスタリング"
   ]
  },
  {
   "cell_type": "markdown",
   "metadata": {},
   "source": [
    "- データの内容\n",
    "\t- 3種類のあやめに対して、それぞれ50個の測定データ\n",
    "\n",
    "- 測定データの内訳\n",
    "\t- ガクの長さ、ガクの幅、花弁の長さ、花弁の幅、花の種類\n",
    "\n",
    "- `iris['data']`には花の種類以外が入っている。\n",
    "\t- 4種類の測定データを使ってクラスタリング"
   ]
  },
  {
   "cell_type": "code",
   "execution_count": 4,
   "metadata": {
    "collapsed": true
   },
   "outputs": [],
   "source": [
    "import matplotlib.pyplot as plt\n",
    "from sklearn import cluster\n",
    "from sklearn import datasets\n",
    "\n",
    "# iris データをロード\n",
    "iris = datasets.load_iris()\n",
    "data = iris['data']\n",
    "\n",
    "# 学習 → クラスタの生成\n",
    "model = cluster.KMeans(n_clusters=3)\n",
    "model.fit(data)\n",
    "\n",
    "# 学習結果のラベル取得\n",
    "labels = model.labels_\n",
    "\n",
    "# グラフの描画\n",
    "MARKERS = [\"o\", \"^\", \"*\", \"v\", \"+\", \"x\", \"d\", \"p\", \"s\", \"1\", \"2\"]\n",
    "\n",
    "\n",
    "# 指定されたインデックスの feature 値で散布図を作成する関数\n",
    "def scatter_by_features(feat_idx1, feat_idx2):\n",
    "    for lbl in range(labels.max() + 1):\n",
    "        clustered = data[labels == lbl]\n",
    "        plt.scatter(clustered[:, feat_idx1], clustered[:, feat_idx2],\n",
    "                    c='black', alpha=0.3, s=100,\n",
    "                    marker=MARKERS[lbl], label='label {}'.format(lbl))\n",
    "\n",
    "    plt.xlabel(iris[\"feature_names\"][feat_idx1], fontsize='xx-large')\n",
    "    plt.ylabel(iris[\"feature_names\"][feat_idx2], fontsize='xx-large')\n",
    "\n",
    "\n",
    "plt.figure(figsize=(16, 16))\n",
    "\n",
    "# feature \"sepal length\" と \"sepal width\"\n",
    "plt.subplot(3, 2, 1)\n",
    "scatter_by_features(0, 1)\n",
    "\n",
    "# feature \"sepal length\" と \"petal length\"\n",
    "plt.subplot(3, 2, 2)\n",
    "scatter_by_features(0, 2)\n",
    "\n",
    "# feature \"sepal length\" と \"petal width\"\n",
    "plt.subplot(3, 2, 3)\n",
    "scatter_by_features(0, 3)\n",
    "\n",
    "# feature \"sepal width\" と \"petal length\"\n",
    "plt.subplot(3, 2, 4)\n",
    "scatter_by_features(1, 2)\n",
    "\n",
    "# feature \"sepal width\" と \"petal width\"\n",
    "plt.subplot(3, 2, 5)\n",
    "scatter_by_features(1, 3)\n",
    "\n",
    "# feature \"petal length\" と \"petal width\"\n",
    "plt.subplot(3, 2, 6)\n",
    "scatter_by_features(2, 3)\n",
    "\n",
    "plt.tight_layout()\n",
    "plt.show()\n"
   ]
  },
  {
   "cell_type": "markdown",
   "metadata": {},
   "source": [
    "↑ちょいちょい混ざってる感ある"
   ]
  },
  {
   "cell_type": "code",
   "execution_count": 5,
   "metadata": {},
   "outputs": [
    {
     "name": "stdout",
     "output_type": "stream",
     "text": [
      "[[ 0 50  0]\n [ 2  0 48]\n [36  0 14]]\n['setosa' 'versicolor' 'virginica']\n"
     ]
    }
   ],
   "source": [
    "from sklearn import metrics\n",
    "print(metrics.confusion_matrix(iris['target'], model.labels_))\n",
    "print(iris['target_names'])"
   ]
  },
  {
   "cell_type": "markdown",
   "metadata": {},
   "source": [
    "↑versicolorはOKだがsetonaとvirginicaが混じってるっぽい"
   ]
  }
 ],
 "metadata": {
  "kernelspec": {
   "display_name": "Python 2",
   "language": "python",
   "name": "python2"
  },
  "language_info": {
   "codemirror_mode": {
    "name": "ipython",
    "version": 2
   },
   "file_extension": ".py",
   "mimetype": "text/x-python",
   "name": "python",
   "nbconvert_exporter": "python",
   "pygments_lexer": "ipython2",
   "version": "2.7.6"
  }
 },
 "nbformat": 4,
 "nbformat_minor": 0
}
